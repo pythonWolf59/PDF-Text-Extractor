{
  "nbformat": 4,
  "nbformat_minor": 0,
  "metadata": {
    "colab": {
      "provenance": [],
      "gpuType": "V28",
      "authorship_tag": "ABX9TyNd+mE8La/Nq5aTGirTOWEQ",
      "include_colab_link": true
    },
    "kernelspec": {
      "name": "python3",
      "display_name": "Python 3"
    },
    "language_info": {
      "name": "python"
    },
    "accelerator": "TPU"
  },
  "cells": [
    {
      "cell_type": "markdown",
      "metadata": {
        "id": "view-in-github",
        "colab_type": "text"
      },
      "source": [
        "<a href=\"https://colab.research.google.com/github/pythonWolf59/PDF-Text-Extractor/blob/master/PDF_to_Text.ipynb\" target=\"_parent\"><img src=\"https://colab.research.google.com/assets/colab-badge.svg\" alt=\"Open In Colab\"/></a>"
      ]
    },
    {
      "cell_type": "code",
      "source": [
        "!apt-get install -y poppler-utils tesseract-ocr libtesseract-dev tesseract-ocr-ara tesseract-ocr-urd\n",
        "!pip install -q pdf2image python-docx opencv-python pytesseract\n"
      ],
      "metadata": {
        "id": "GGjpmaoZGWYF"
      },
      "execution_count": null,
      "outputs": []
    },
    {
      "cell_type": "code",
      "source": [
        "from google.colab import files\n",
        "from pdf2image import convert_from_path\n",
        "import os\n",
        "\n",
        "uploaded = files.upload()\n",
        "pdf_path = list(uploaded.keys())[0]\n",
        "\n",
        "# Convert PDF to images (at lower DPI to save memory)\n",
        "images = convert_from_path(pdf_path, dpi=200, fmt='jpeg')\n",
        "os.makedirs(\"pages\", exist_ok=True)\n",
        "image_paths = []\n",
        "\n",
        "for i, img in enumerate(images):\n",
        "    path = f\"pages/page_{i+1}.jpg\"\n",
        "    img.save(path, \"JPEG\")\n",
        "    image_paths.append(path)\n",
        "\n",
        "import cv2\n",
        "\n",
        "def preprocess_image(img_path):\n",
        "    img = cv2.imread(img_path, cv2.IMREAD_GRAYSCALE)\n",
        "    img = cv2.fastNlMeansDenoising(img, h=30)\n",
        "    _, img = cv2.threshold(img, 0, 255, cv2.THRESH_BINARY + cv2.THRESH_OTSU)\n",
        "    cleaned_path = img_path.replace(\".jpg\", \"_cleaned.jpg\")\n",
        "    cv2.imwrite(cleaned_path, img)\n",
        "    return cleaned_path\n",
        "\n",
        "import pytesseract\n",
        "\n",
        "def extract_text(img_path, lang=\"eng+urd+ara\"):\n",
        "    return pytesseract.image_to_string(img_path, lang=lang)\n",
        "\n",
        "from docx import Document\n",
        "\n",
        "doc = Document()\n",
        "doc.add_heading(\"OCR Document Output\", 0)\n",
        "\n",
        "for i, img_path in enumerate(image_paths):\n",
        "    cleaned_img = preprocess_image(img_path)\n",
        "    text = extract_text(cleaned_img)\n",
        "\n",
        "    doc.add_page_break()\n",
        "    doc.add_heading(f\"Page {i+1}\", level=1)\n",
        "    for para in text.split('\\n\\n'):\n",
        "        if para.strip():\n",
        "            doc.add_paragraph(para.strip())\n",
        "\n",
        "output_docx = \"light_ocr_output.docx\"\n",
        "doc.save(output_docx)\n",
        "\n",
        "files.download(output_docx)\n",
        "\n"
      ],
      "metadata": {
        "id": "muzu_puL3GE0"
      },
      "execution_count": null,
      "outputs": []
    }
  ]
}